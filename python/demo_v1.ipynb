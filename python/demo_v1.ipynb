{
 "cells": [
  {
   "cell_type": "markdown",
   "metadata": {},
   "source": [
    "# Prepare Environment\n",
    "\n",
    "Load necessary modules and attempt to compile the GrOpt library if it isn't already"
   ]
  },
  {
   "cell_type": "code",
   "execution_count": null,
   "metadata": {},
   "outputs": [],
   "source": [
    "import numpy as np\n",
    "import matplotlib.pyplot as plt\n",
    "\n",
    "from timeit import default_timer as timer\n",
    "\n",
    "# This attempts to re-compile the library in case it has been changed, mostly for debug, but won't do anything\n",
    "# if nothing is changed\n",
    "import subprocess\n",
    "out = subprocess.run([\"python\", \"setup.py\", \"build_ext\", \"--inplace\"], stdout=subprocess.PIPE)\n",
    "import gropt\n",
    "\n",
    "from helper_utils import *\n",
    "\n",
    "%matplotlib inline"
   ]
  },
  {
   "cell_type": "markdown",
   "metadata": {},
   "source": [
    "# M0 Nulled CODE\n",
    "\n",
    "Generate a waveform with $M_0 = 0$, other parameters as listed in the code.\n",
    "\n",
    "TE was manually selected (44.4 ms) to hit b-value = 600"
   ]
  },
  {
   "cell_type": "code",
   "execution_count": null,
   "metadata": {},
   "outputs": [],
   "source": [
    "params = {}\n",
    "params['mode'] = 'diff_bval'\n",
    "params['gmax']  = 0.05\n",
    "params['smax']  = 50.0\n",
    "params['MMT']  = 0\n",
    "params['TE']  = 60.5\n",
    "params['T_readout']  = 16.0\n",
    "params['T_90']  = 4.0\n",
    "params['T_180']  = 6.0\n",
    "params['dt']  = 200e-6\n",
    "\n",
    "G, dd = gropt.gropt(params, verbose=1)\n",
    "\n",
    "plot_waveform(G, params)"
   ]
  },
  {
   "cell_type": "markdown",
   "metadata": {},
   "source": [
    "### Run TE finder for bval = 1000"
   ]
  },
  {
   "cell_type": "code",
   "execution_count": null,
   "metadata": {},
   "outputs": [],
   "source": [
    "G_min, T_min = get_min_TE(params, bval=1000)\n",
    "plot_waveform(G_min, params)"
   ]
  },
  {
   "cell_type": "markdown",
   "metadata": {},
   "source": [
    "# M0+M1 Nulled CODE\n",
    "\n",
    "Generate a waveform with $M_0 = 0$ and $M_1 = 0$, other parameters as listed in the code.\n",
    "\n",
    "TE was manually selected (82 ms) to hit b-value = 600"
   ]
  },
  {
   "cell_type": "code",
   "execution_count": null,
   "metadata": {},
   "outputs": [],
   "source": [
    "params = {}\n",
    "params['mode'] = 'diff_bval'\n",
    "params['gmax']  = 0.05\n",
    "params['smax']  = 50.0\n",
    "params['MMT']  = 1\n",
    "params['TE']  = 82.0\n",
    "params['T_readout']  = 16.0\n",
    "params['T_90']  = 4.0\n",
    "params['T_180']  = 6.0\n",
    "params['dt']  = 200e-6\n",
    "\n",
    "G, dd = gropt.gropt(params, verbose=1)\n",
    "\n",
    "plot_waveform(G, params)"
   ]
  },
  {
   "cell_type": "markdown",
   "metadata": {},
   "source": [
    "# M0+M1+M2 Nulled CODE\n",
    "\n",
    "Generate a waveform with $M_0 = 0$, $M_1 = 0$ and $M_2 = 0$, other parameters as listed in the code.\n",
    "\n",
    "TE was manually selected (97 ms) to hit b-value = 600"
   ]
  },
  {
   "cell_type": "code",
   "execution_count": null,
   "metadata": {},
   "outputs": [],
   "source": [
    "params = {}\n",
    "params['mode'] = 'diff_bval'\n",
    "params['gmax']  = 0.05\n",
    "params['smax']  = 50.0\n",
    "params['MMT']  = 2\n",
    "params['TE']  = 97.0\n",
    "params['T_readout']  = 16.0\n",
    "params['T_90']  = 4.0\n",
    "params['T_180']  = 6.0\n",
    "params['dt']  = 200e-6\n",
    "\n",
    "G, dd = gropt.gropt(params, verbose=1)\n",
    "\n",
    "plot_waveform(G, params)"
   ]
  },
  {
   "cell_type": "code",
   "execution_count": null,
   "metadata": {},
   "outputs": [],
   "source": []
  }
 ],
 "metadata": {
  "kernelspec": {
   "display_name": "Python 3",
   "language": "python",
   "name": "python3"
  },
  "language_info": {
   "codemirror_mode": {
    "name": "ipython",
    "version": 3
   },
   "file_extension": ".py",
   "mimetype": "text/x-python",
   "name": "python",
   "nbconvert_exporter": "python",
   "pygments_lexer": "ipython3",
   "version": "3.7.7"
  }
 },
 "nbformat": 4,
 "nbformat_minor": 4
}
