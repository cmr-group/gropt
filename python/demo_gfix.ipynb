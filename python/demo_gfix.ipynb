{
 "cells": [
  {
   "cell_type": "code",
   "execution_count": 1,
   "metadata": {},
   "outputs": [],
   "source": [
    "import numpy as np\n",
    "import matplotlib.pyplot as plt\n",
    "\n",
    "from timeit import default_timer as timer\n",
    "\n",
    "# This attempts to re-compile the library in case it has been changed, mostly for debug, but won't do anything\n",
    "# if nothing is changed\n",
    "import subprocess\n",
    "out = subprocess.run([\"python\", \"setup.py\", \"build_ext\", \"--inplace\"], stdout=subprocess.PIPE)\n",
    "import gropt\n",
    "\n",
    "from helper_utils import *\n",
    "\n",
    "%matplotlib inline"
   ]
  },
  {
   "cell_type": "code",
   "execution_count": 2,
   "metadata": {},
   "outputs": [
    {
     "data": {
      "text/plain": [
       "[<matplotlib.lines.Line2D at 0x246b4e54188>]"
      ]
     },
     "execution_count": 2,
     "metadata": {},
     "output_type": "execute_result"
    },
    {
     "data": {
      "image/png": "[encoded data removed]",
      "text/plain": [
       "<Figure size 432x288 with 1 Axes>"
      ]
     },
     "metadata": {
      "needs_background": "light"
     },
     "output_type": "display_data"
    }
   ],
   "source": [
    "dt = 10e-6\n",
    "\n",
    "g_ss = .0070\n",
    "N_ss = int(np.round(1.375/(g_ss*dt)*1e-6))\n",
    "G_ss = np.ones(N_ss) * g_ss\n",
    "\n",
    "plt.figure()\n",
    "plt.plot(G_ss)"
   ]
  },
  {
   "cell_type": "code",
   "execution_count": 3,
   "metadata": {},
   "outputs": [
    {
     "name": "stdout",
     "output_type": "stream",
     "text": [
      "ERROR: params does not contain key \"TE\"\n"
     ]
    },
    {
     "ename": "TypeError",
     "evalue": "cannot unpack non-iterable NoneType object",
     "output_type": "error",
     "traceback": [
      "\u001b[1;31m---------------------------------------------------------------------------\u001b[0m",
      "\u001b[1;31mTypeError\u001b[0m                                 Traceback (most recent call last)",
      "\u001b[1;32m<ipython-input-3-2ce0c7e8384c>\u001b[0m in \u001b[0;36m<module>\u001b[1;34m\u001b[0m\n\u001b[0;32m     17\u001b[0m \u001b[0mparams\u001b[0m\u001b[1;33m[\u001b[0m\u001b[1;34m'gfix'\u001b[0m\u001b[1;33m]\u001b[0m  \u001b[1;33m=\u001b[0m \u001b[0mgfix\u001b[0m\u001b[1;33m\u001b[0m\u001b[1;33m\u001b[0m\u001b[0m\n\u001b[0;32m     18\u001b[0m \u001b[1;33m\u001b[0m\u001b[0m\n\u001b[1;32m---> 19\u001b[1;33m \u001b[0mG\u001b[0m\u001b[1;33m,\u001b[0m \u001b[0mdd\u001b[0m \u001b[1;33m=\u001b[0m \u001b[0mgropt\u001b[0m\u001b[1;33m.\u001b[0m\u001b[0mgropt\u001b[0m\u001b[1;33m(\u001b[0m\u001b[0mparams\u001b[0m\u001b[1;33m,\u001b[0m \u001b[0mverbose\u001b[0m\u001b[1;33m=\u001b[0m\u001b[1;36m1\u001b[0m\u001b[1;33m)\u001b[0m\u001b[1;33m\u001b[0m\u001b[1;33m\u001b[0m\u001b[0m\n\u001b[0m\u001b[0;32m     20\u001b[0m \u001b[0mplot_waveform\u001b[0m\u001b[1;33m(\u001b[0m\u001b[0mG\u001b[0m\u001b[1;33m,\u001b[0m \u001b[0mparams\u001b[0m\u001b[1;33m)\u001b[0m\u001b[1;33m\u001b[0m\u001b[1;33m\u001b[0m\u001b[0m\n",
      "\u001b[1;31mTypeError\u001b[0m: cannot unpack non-iterable NoneType object"
     ]
    }
   ],
   "source": [
    "params = {}\n",
    "params['mode'] = 'free'\n",
    "params['gmax']  = 0.05\n",
    "params['smax']  = 100.0\n",
    "\n",
    "params['moment_params']  = [[0, 0, 0, -1, -1, 0.0, 1.0e-3]]\n",
    "params['moment_params'].append([0, 1, 0, -1, -1, 0.0, 1.0e-3])\n",
    "params['dt']  = dt\n",
    "\n",
    "TE = 1.0e-3\n",
    "N = int(np.round(TE/dt))\n",
    "gfix = np.ones(N) * -999999\n",
    "gfix[0] = 0.0\n",
    "gfix[-1] = 0.0\n",
    "gfix[:N_ss] = G_ss\n",
    "\n",
    "params['gfix']  = gfix\n",
    "\n",
    "G, dd = gropt.gropt(params, verbose=1)\n",
    "plot_waveform(G, params)"
   ]
  },
  {
   "cell_type": "code",
   "execution_count": 5,
   "metadata": {},
   "outputs": [
    {
     "name": "stdout",
     "output_type": "stream",
     "text": [
      "Fixed region of waveform = 0.210000 ms\n",
      "Testing TE = 1.11  ** 112 112 112 **\n",
      "Good TE = 1.11\n",
      " 0.67  ** 67 67 67 **\n",
      " 0.89  ** 89 89 89 **\n",
      " 1.00  ** 100 100 100 **\n",
      "Good TE = 0.99875\n",
      " 0.94  ** 95 95 95 **\n",
      "Good TE = 0.943125\n",
      " 0.92  ** 92 92 92 **\n",
      "Good TE = 0.9153125\n",
      " 0.90  ** 91 91 91 **\n",
      "Good TE = 0.90140625\n",
      " 0.89  ** 90 90 90 **\n",
      "Good TE = 0.8944531250000001\n",
      " 0.89  ** 90 90 90 **\n",
      "Good TE = 0.8909765625000001\n",
      " 0.89  ** 89 89 89 **\n",
      " Final TE = 0.891 ms\n"
     ]
    },
    {
     "data": {
      "text/plain": [
       "[<matplotlib.lines.Line2D at 0x246b5069f48>]"
      ]
     },
     "execution_count": 5,
     "metadata": {},
     "output_type": "execute_result"
    },
    {
     "data": {
      "image/png": "[encoded data removed]",
      "text/plain": [
       "<Figure size 432x288 with 1 Axes>"
      ]
     },
     "metadata": {
      "needs_background": "light"
     },
     "output_type": "display_data"
    }
   ],
   "source": [
    "T_hi = 2.0\n",
    "verbose = 1\n",
    "\n",
    "dt = params['dt']\n",
    "\n",
    "gfix_init = params['gfix'].copy()\n",
    "free_vals = (gfix_init<-9999).astype(np.int)\n",
    "dd = np.diff(free_vals)\n",
    "block_check = np.abs(dd).sum()\n",
    "if block_check > 2:\n",
    "    print('ERROR: Found more than one consecutive free block in gfix, TE finder not supported yet')\n",
    "\n",
    "N_free = int(free_vals.sum())\n",
    "N_fix = free_vals.size - N_free\n",
    "T_fix = N_fix * dt\n",
    "print('Fixed region of waveform = %f ms' % (T_fix*1e3,))\n",
    "block_start = np.where(dd==1)[0][0] + 1\n",
    "block_stop = np.where(dd==-1)[0][0]\n",
    "\n",
    "gfix_p0 = gfix_init[:block_start]\n",
    "gfix_p2 = gfix_init[block_stop+1:]\n",
    "\n",
    "T_lo = (N_fix+1) * dt * 1e3;\n",
    "T_range = T_hi-T_lo;\n",
    "\n",
    "\n",
    "best_time = 999999.9\n",
    "\n",
    "if verbose:\n",
    "    print('Testing TE =', end='', flush=True)\n",
    "while ((T_range*1e-3) > (dt/4.0)): \n",
    "    TE = T_lo + (T_range)/2.0\n",
    "    if verbose:\n",
    "        print(' %.2f' % TE, end='', flush=True)\n",
    "   \n",
    "    params['TE'] = TE\n",
    "    NN = int(TE*1e-3/dt) + 1\n",
    "    \n",
    "    gfix_TE = np.hstack([gfix_p0, np.ones(NN-N_fix)*-99999, gfix_p2])\n",
    "    \n",
    "    params['gfix'] = gfix_TE.copy()\n",
    "    \n",
    "    G, ddebug = gropt.gropt(params)\n",
    "    print('  **', NN, gfix_TE.size, G.size, '**')\n",
    "    lim_break = ddebug[14]\n",
    "    if lim_break == 0:\n",
    "        T_hi = params['TE']\n",
    "        if T_hi < best_time:\n",
    "            print('Good TE =', T_hi)\n",
    "            G_out = G\n",
    "            T_out = T_hi\n",
    "            best_time = T_hi\n",
    "            good_gfix = gfix_TE.copy()\n",
    "    else:\n",
    "        T_lo = params['TE']\n",
    "    T_range = T_hi-T_lo\n",
    "\n",
    "if verbose:\n",
    "    print(' Final TE = %.3f ms' % T_out)\n",
    "\n",
    "plt.figure()\n",
    "plt.plot(G_out)\n"
   ]
  },
  {
   "cell_type": "code",
   "execution_count": null,
   "metadata": {},
   "outputs": [],
   "source": [
    "NN = 100\n",
    "gfix_TE = np.hstack([gfix_p0, np.ones(NN-N_fix)*-99999, gfix_p2])"
   ]
  },
  {
   "cell_type": "code",
   "execution_count": null,
   "metadata": {},
   "outputs": [],
   "source": [
    "TE = T_out\n",
    "print(TE*1e-3/dt)\n",
    "NN = int(np.round(TE*1e-3/dt))\n",
    "print(NN)"
   ]
  },
  {
   "cell_type": "code",
   "execution_count": null,
   "metadata": {},
   "outputs": [],
   "source": [
    "params['TE'] = T_out\n",
    "params['gfix'] = good_gfix\n",
    "GG, dd = gropt.gropt(params, verbose = 1)\n",
    "plt.figure()\n",
    "plt.plot(GG)\n",
    "print(GG.size, good_gfix.size)"
   ]
  },
  {
   "cell_type": "code",
   "execution_count": null,
   "metadata": {},
   "outputs": [],
   "source": [
    "good_gfix"
   ]
  },
  {
   "cell_type": "code",
   "execution_count": null,
   "metadata": {},
   "outputs": [],
   "source": []
  }
 ],
 "metadata": {
  "kernelspec": {
   "display_name": "Python 3",
   "language": "python",
   "name": "python3"
  },
  "language_info": {
   "codemirror_mode": {
    "name": "ipython",
    "version": 3
   },
   "file_extension": ".py",
   "mimetype": "text/x-python",
   "name": "python",
   "nbconvert_exporter": "python",
   "pygments_lexer": "ipython3",
   "version": "3.7.7"
  }
 },
 "nbformat": 4,
 "nbformat_minor": 4
}
